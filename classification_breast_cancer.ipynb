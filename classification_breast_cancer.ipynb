{
  "nbformat": 4,
  "nbformat_minor": 0,
  "metadata": {
    "colab": {
      "provenance": []
    },
    "kernelspec": {
      "name": "python3",
      "display_name": "Python 3"
    },
    "language_info": {
      "name": "python"
    }
  },
  "cells": [
    {
      "cell_type": "markdown",
      "source": [
        "#Training a multi layer perceptron with 1 hidden layer."
      ],
      "metadata": {
        "id": "pPq0wYgEIUqj"
      }
    },
    {
      "cell_type": "code",
      "execution_count": 6,
      "metadata": {
        "colab": {
          "base_uri": "https://localhost:8080/"
        },
        "id": "7fk_sO60Dx13",
        "outputId": "74d04d76-d611-4898-e6ce-8702b39c5992"
      },
      "outputs": [
        {
          "output_type": "stream",
          "name": "stdout",
          "text": [
            "Epoch [10/100], Loss: 0.5217\n",
            "Epoch [20/100], Loss: 0.3646\n",
            "Epoch [30/100], Loss: 0.2655\n",
            "Epoch [40/100], Loss: 0.2033\n",
            "Epoch [50/100], Loss: 0.1641\n",
            "Epoch [60/100], Loss: 0.1382\n",
            "Epoch [70/100], Loss: 0.1200\n",
            "Epoch [80/100], Loss: 0.1066\n",
            "Epoch [90/100], Loss: 0.0963\n",
            "Epoch [100/100], Loss: 0.0881\n",
            "Accuracy on Test Set: 0.9825\n"
          ]
        }
      ],
      "source": [
        "import numpy as np\n",
        "from sklearn.datasets import load_breast_cancer\n",
        "from sklearn.model_selection import train_test_split\n",
        "from sklearn.preprocessing import StandardScaler\n",
        "import torch\n",
        "import torch.nn as nn\n",
        "import torch.optim as optim\n",
        "\n",
        "# Load the Breast Cancer Wisconsin (Diagnostic) dataset\n",
        "cancer = load_breast_cancer()\n",
        "X, y = cancer.data, cancer.target\n",
        "\n",
        "# Split the data into training and testing sets\n",
        "X_train, X_test, y_train, y_test = train_test_split(X, y, test_size=0.2, random_state=42)\n",
        "\n",
        "# Preprocess the data (Standard Scaling)\n",
        "scaler = StandardScaler()\n",
        "X_train_scaled = scaler.fit_transform(X_train)\n",
        "X_test_scaled = scaler.transform(X_test)\n",
        "\n",
        "# Convert data to PyTorch tensors\n",
        "X_train_tensor = torch.tensor(X_train_scaled, dtype=torch.float32)\n",
        "y_train_tensor = torch.tensor(y_train, dtype=torch.float32)\n",
        "X_test_tensor = torch.tensor(X_test_scaled, dtype=torch.float32)\n",
        "y_test_tensor = torch.tensor(y_test, dtype=torch.float32)\n",
        "\n",
        "# Define a neural network model\n",
        "class NeuralNetwork(nn.Module):\n",
        "    def __init__(self, input_size):\n",
        "        super(NeuralNetwork, self).__init__()\n",
        "        self.fc1 = nn.Linear(input_size, 128)\n",
        "        self.relu = nn.ReLU()\n",
        "        self.fc2 = nn.Linear(128, 1)\n",
        "\n",
        "    def forward(self, x):\n",
        "        x = self.fc1(x)\n",
        "        x = self.relu(x)\n",
        "        x = self.fc2(x)\n",
        "        return x\n",
        "\n",
        "# Initialize the model, loss function, and optimizer\n",
        "input_size = X_train.shape[1]\n",
        "model = NeuralNetwork(input_size)\n",
        "criterion = nn.BCEWithLogitsLoss()\n",
        "optimizer = optim.Adam(model.parameters(), lr=0.001)\n",
        "\n",
        "# Training loop\n",
        "epochs = 100\n",
        "for epoch in range(epochs):\n",
        "    # Forward pass\n",
        "    y_pred = model(X_train_tensor)\n",
        "\n",
        "    # Compute the loss\n",
        "    loss = criterion(y_pred.squeeze(), y_train_tensor)\n",
        "\n",
        "    # Backward pass and optimization\n",
        "    optimizer.zero_grad()\n",
        "    loss.backward()\n",
        "    optimizer.step()\n",
        "\n",
        "    if (epoch + 1) % 10 == 0:\n",
        "        print(f'Epoch [{epoch+1}/{epochs}], Loss: {loss.item():.4f}')\n",
        "\n",
        "# Evaluate the model on the test set\n",
        "with torch.no_grad():\n",
        "    y_pred_test = model(X_test_tensor)\n",
        "    y_pred_labels = torch.round(torch.sigmoid(y_pred_test)).numpy()\n",
        "    accuracy = np.mean(y_pred_labels == y_test.reshape(-1, 1))\n",
        "\n",
        "print(f'Accuracy on Test Set: {accuracy:.4f}')\n"
      ]
    },
    {
      "cell_type": "markdown",
      "source": [
        "#Training a decision tree classifier"
      ],
      "metadata": {
        "id": "qN-wFV_nIoZl"
      }
    },
    {
      "cell_type": "code",
      "source": [
        "from sklearn.tree import DecisionTreeClassifier\n",
        "from sklearn.metrics import accuracy_score\n",
        "\n",
        "# Load the Breast Cancer Wisconsin (Diagnostic) dataset\n",
        "cancer = load_breast_cancer()\n",
        "X, y = cancer.data, cancer.target\n",
        "\n",
        "# Split the data into training and testing sets\n",
        "X_train, X_test, y_train, y_test = train_test_split(X, y, test_size=0.2, random_state=42)\n",
        "\n",
        "# Preprocess the data (Standard Scaling)\n",
        "X_train_scaled = scaler.fit_transform(X_train)\n",
        "X_test_scaled = scaler.transform(X_test)\n",
        "\n",
        "# Initialize the Decision Tree model\n",
        "decision_tree_model = DecisionTreeClassifier(random_state=42)\n",
        "\n",
        "# Train the Decision Tree model\n",
        "decision_tree_model.fit(X_train_scaled, y_train)\n",
        "\n",
        "# Make predictions on the test set\n",
        "decision_tree_predictions = decision_tree_model.predict(X_test_scaled)\n",
        "\n",
        "# Evaluate the Decision Tree model\n",
        "accuracy = accuracy_score(y_test, decision_tree_predictions)\n",
        "print(f'Decision Tree Accuracy on Test Set: {accuracy:.4f}')\n"
      ],
      "metadata": {
        "colab": {
          "base_uri": "https://localhost:8080/"
        },
        "id": "eW-vbDGPGExX",
        "outputId": "c96855e5-3f16-41f6-ae3d-e8fb1018133e"
      },
      "execution_count": 7,
      "outputs": [
        {
          "output_type": "stream",
          "name": "stdout",
          "text": [
            "Decision Tree Accuracy on Test Set: 0.9474\n"
          ]
        }
      ]
    },
    {
      "cell_type": "markdown",
      "source": [
        "#Training a random forest classifier."
      ],
      "metadata": {
        "id": "svSQyuYAIyT8"
      }
    },
    {
      "cell_type": "code",
      "source": [
        "from sklearn.ensemble import RandomForestClassifier\n",
        "from sklearn.metrics import accuracy_score\n",
        "\n",
        "# Load the Breast Cancer Wisconsin (Diagnostic) dataset\n",
        "cancer = load_breast_cancer()\n",
        "X, y = cancer.data, cancer.target\n",
        "\n",
        "# Split the data into training and testing sets\n",
        "X_train, X_test, y_train, y_test = train_test_split(X, y, test_size=0.2, random_state=42)\n",
        "\n",
        "# Preprocess the data (Standard Scaling)\n",
        "X_train_scaled = scaler.fit_transform(X_train)\n",
        "X_test_scaled = scaler.transform(X_test)\n",
        "\n",
        "# Initialize the Random Forest model\n",
        "random_forest_model = RandomForestClassifier(random_state=42)\n",
        "\n",
        "# Train the Random Forest model\n",
        "random_forest_model.fit(X_train_scaled, y_train)\n",
        "\n",
        "# Make predictions on the test set\n",
        "random_forest_predictions = random_forest_model.predict(X_test_scaled)\n",
        "\n",
        "# Evaluate the Random Forest model\n",
        "accuracy = accuracy_score(y_test, random_forest_predictions)\n",
        "print(f'Random Forest Accuracy on Test Set: {accuracy:.4f}')\n"
      ],
      "metadata": {
        "colab": {
          "base_uri": "https://localhost:8080/"
        },
        "id": "pMj8lawbGLzH",
        "outputId": "ee1e96b0-81b9-4fa0-b04b-fddcdad80b83"
      },
      "execution_count": 8,
      "outputs": [
        {
          "output_type": "stream",
          "name": "stdout",
          "text": [
            "Random Forest Accuracy on Test Set: 0.9649\n"
          ]
        }
      ]
    },
    {
      "cell_type": "markdown",
      "source": [
        "#Training a logistic regression with linear and polynomial features."
      ],
      "metadata": {
        "id": "xiVl0amGI22X"
      }
    },
    {
      "cell_type": "code",
      "source": [
        "from sklearn.linear_model import LogisticRegression\n",
        "from sklearn.metrics import accuracy_score\n",
        "from sklearn.preprocessing import PolynomialFeatures\n",
        "from sklearn.pipeline import make_pipeline\n",
        "\n",
        "# Load the Breast Cancer Wisconsin (Diagnostic) dataset\n",
        "cancer = load_breast_cancer()\n",
        "X, y = cancer.data, cancer.target\n",
        "\n",
        "# Split the data into training and testing sets\n",
        "X_train, X_test, y_train, y_test = train_test_split(X, y, test_size=0.2, random_state=42)\n",
        "\n",
        "# Preprocess the data (Standard Scaling)\n",
        "X_train_scaled = scaler.fit_transform(X_train)\n",
        "X_test_scaled = scaler.transform(X_test)\n",
        "\n",
        "# Logistic Regression without Polynomial Features\n",
        "logreg = LogisticRegression(random_state=42)\n",
        "logreg.fit(X_train_scaled, y_train)\n",
        "logreg_predictions = logreg.predict(X_test_scaled)\n",
        "accuracy_without_poly = accuracy_score(y_test, logreg_predictions)\n",
        "print(f'Logistic Regression Accuracy without Polynomial Features: {accuracy_without_poly:.4f}')\n",
        "\n",
        "# Logistic Regression with Polynomial Features\n",
        "degree = 2  # Degree of the polynomial features\n",
        "poly_logreg = make_pipeline(PolynomialFeatures(degree), LogisticRegression(random_state=42))\n",
        "poly_logreg.fit(X_train_scaled, y_train)\n",
        "poly_logreg_predictions = poly_logreg.predict(X_test_scaled)\n",
        "accuracy_with_poly = accuracy_score(y_test, poly_logreg_predictions)\n",
        "print(f'Polynomial Logistic Regression Accuracy with Polynomial Features: {accuracy_with_poly:.4f}')\n"
      ],
      "metadata": {
        "colab": {
          "base_uri": "https://localhost:8080/"
        },
        "id": "dzxUNs0mGSaw",
        "outputId": "e6527687-5cf5-4d7d-866b-d5ff84eb90ad"
      },
      "execution_count": 13,
      "outputs": [
        {
          "output_type": "stream",
          "name": "stdout",
          "text": [
            "Logistic Regression Accuracy without Polynomial Features: 0.9737\n",
            "Polynomial Logistic Regression Accuracy with Polynomial Features: 0.9474\n"
          ]
        }
      ]
    },
    {
      "cell_type": "markdown",
      "source": [
        "#Training a support vector machine with linear, rbf and polynomial kernels.\n",
        "\n",
        "\n"
      ],
      "metadata": {
        "id": "AOkZ8zUNI-R0"
      }
    },
    {
      "cell_type": "code",
      "source": [
        "from sklearn.svm import SVC\n",
        "from sklearn.metrics import accuracy_score\n",
        "\n",
        "# Load the Breast Cancer Wisconsin (Diagnostic) dataset\n",
        "cancer = load_breast_cancer()\n",
        "X, y = cancer.data, cancer.target\n",
        "\n",
        "# Split the data into training and testing sets\n",
        "X_train, X_test, y_train, y_test = train_test_split(X, y, test_size=0.2, random_state=42)\n",
        "\n",
        "# Preprocess the data (Standard Scaling)\n",
        "X_train_scaled = scaler.fit_transform(X_train)\n",
        "X_test_scaled = scaler.transform(X_test)\n",
        "\n",
        "# Initialize SVM models with different kernels\n",
        "svm_linear = SVC(kernel='linear', random_state=42)\n",
        "svm_rbf = SVC(kernel='rbf', random_state=42)\n",
        "svm_poly = SVC(kernel='poly', degree=3, random_state=42)  # Using a polynomial kernel of degree 3\n",
        "\n",
        "# Train the SVM models\n",
        "svm_linear.fit(X_train_scaled, y_train)\n",
        "svm_rbf.fit(X_train_scaled, y_train)\n",
        "svm_poly.fit(X_train_scaled, y_train)\n",
        "\n",
        "# Make predictions on the test set\n",
        "svm_linear_predictions = svm_linear.predict(X_test_scaled)\n",
        "svm_rbf_predictions = svm_rbf.predict(X_test_scaled)\n",
        "svm_poly_predictions = svm_poly.predict(X_test_scaled)\n",
        "\n",
        "# Evaluate the SVM models\n",
        "accuracy_linear = accuracy_score(y_test, svm_linear_predictions)\n",
        "accuracy_rbf = accuracy_score(y_test, svm_rbf_predictions)\n",
        "accuracy_poly = accuracy_score(y_test, svm_poly_predictions)\n",
        "\n",
        "print(f'SVM with Linear Kernel Accuracy: {accuracy_linear:.4f}')\n",
        "print(f'SVM with RBF Kernel Accuracy: {accuracy_rbf:.4f}')\n",
        "print(f'SVM with Polynomial Kernel Accuracy: {accuracy_poly:.4f}')\n"
      ],
      "metadata": {
        "colab": {
          "base_uri": "https://localhost:8080/"
        },
        "id": "YNKmthkwGZSX",
        "outputId": "62b4f86a-85b3-4718-ce01-0912169c8215"
      },
      "execution_count": 11,
      "outputs": [
        {
          "output_type": "stream",
          "name": "stdout",
          "text": [
            "SVM with Linear Kernel Accuracy: 0.9561\n",
            "SVM with RBF Kernel Accuracy: 0.9825\n",
            "SVM with Polynomial Kernel Accuracy: 0.8684\n"
          ]
        }
      ]
    },
    {
      "cell_type": "markdown",
      "source": [],
      "metadata": {
        "id": "HUUReFSZJpra"
      }
    },
    {
      "cell_type": "markdown",
      "source": [
        "#Training a k-nearest neighbor method.\n",
        "\n",
        "\n"
      ],
      "metadata": {
        "id": "d7qaPEyOJtOg"
      }
    },
    {
      "cell_type": "code",
      "source": [
        "# In this cell, we are training a k-Nearest Neighbors (KNN) classifier on the Breast Cancer Wisconsin dataset.\n",
        "\n",
        "from sklearn.neighbors import KNeighborsClassifier\n",
        "from sklearn.metrics import accuracy_score\n",
        "\n",
        "# Load the Breast Cancer Wisconsin (Diagnostic) dataset\n",
        "cancer = load_breast_cancer()\n",
        "X, y = cancer.data, cancer.target\n",
        "\n",
        "# Split the data into training and testing sets\n",
        "X_train, X_test, y_train, y_test = train_test_split(X, y, test_size=0.2, random_state=42)\n",
        "\n",
        "# Preprocess the data (Standard Scaling)\n",
        "X_train_scaled = scaler.fit_transform(X_train)\n",
        "X_test_scaled = scaler.transform(X_test)\n",
        "\n",
        "# Initialize and train the KNN model\n",
        "knn_model = KNeighborsClassifier()\n",
        "knn_model.fit(X_train_scaled, y_train)\n",
        "\n",
        "# Make predictions on the test set\n",
        "knn_predictions = knn_model.predict(X_test_scaled)\n",
        "\n",
        "# Evaluate the KNN model\n",
        "accuracy_knn = accuracy_score(y_test, knn_predictions)\n",
        "print(f'k-Nearest Neighbors (KNN) Accuracy on Test Set: {accuracy_knn:.4f}')\n"
      ],
      "metadata": {
        "colab": {
          "base_uri": "https://localhost:8080/"
        },
        "id": "iZwXL6PdJouz",
        "outputId": "d2687496-0e0e-4589-826b-8626533bd5e5"
      },
      "execution_count": 16,
      "outputs": [
        {
          "output_type": "stream",
          "name": "stdout",
          "text": [
            "k-Nearest Neighbors (KNN) Accuracy on Test Set: 0.9474\n"
          ]
        }
      ]
    },
    {
      "cell_type": "markdown",
      "source": [
        "#Training a gaussian naive bayse."
      ],
      "metadata": {
        "id": "rRLuaZj3J7sj"
      }
    },
    {
      "cell_type": "code",
      "source": [
        "# In this cell, we are training a Gaussian Naive Bayes classifier on the Breast Cancer Wisconsin dataset.\n",
        "\n",
        "from sklearn.naive_bayes import GaussianNB\n",
        "from sklearn.metrics import accuracy_score\n",
        "\n",
        "# Load the Breast Cancer Wisconsin (Diagnostic) dataset\n",
        "cancer = load_breast_cancer()\n",
        "X, y = cancer.data, cancer.target\n",
        "\n",
        "# Split the data into training and testing sets\n",
        "X_train, X_test, y_train, y_test = train_test_split(X, y, test_size=0.2, random_state=42)\n",
        "\n",
        "# Preprocess the data (Standard Scaling)\n",
        "X_train_scaled = scaler.fit_transform(X_train)\n",
        "X_test_scaled = scaler.transform(X_test)\n",
        "\n",
        "# Initialize and train the Gaussian Naive Bayes model\n",
        "nb_model = GaussianNB()\n",
        "nb_model.fit(X_train_scaled, y_train)\n",
        "\n",
        "# Make predictions on the test set\n",
        "nb_predictions = nb_model.predict(X_test_scaled)\n",
        "\n",
        "# Evaluate the Gaussian Naive Bayes model\n",
        "accuracy_nb = accuracy_score(y_test, nb_predictions)\n",
        "print(f'Gaussian Naive Bayes Accuracy on Test Set: {accuracy_nb:.4f}')\n"
      ],
      "metadata": {
        "colab": {
          "base_uri": "https://localhost:8080/"
        },
        "id": "1Bw_9tZCJ1Tx",
        "outputId": "65100308-a0f3-4cd0-9c1f-a6159a9ec69c"
      },
      "execution_count": 17,
      "outputs": [
        {
          "output_type": "stream",
          "name": "stdout",
          "text": [
            "Gaussian Naive Bayes Accuracy on Test Set: 0.9649\n"
          ]
        }
      ]
    },
    {
      "cell_type": "markdown",
      "source": [
        "#Training a gradient boosting classifier"
      ],
      "metadata": {
        "id": "40RBPZ-EJ-9a"
      }
    },
    {
      "cell_type": "code",
      "source": [
        "# In this cell, we are training a Gradient Boosting classifier on the Breast Cancer Wisconsin dataset.\n",
        "\n",
        "from sklearn.ensemble import GradientBoostingClassifier\n",
        "from sklearn.metrics import accuracy_score\n",
        "\n",
        "# Load the Breast Cancer Wisconsin (Diagnostic) dataset\n",
        "cancer = load_breast_cancer()\n",
        "X, y = cancer.data, cancer.target\n",
        "\n",
        "# Split the data into training and testing sets\n",
        "X_train, X_test, y_train, y_test = train_test_split(X, y, test_size=0.2, random_state=42)\n",
        "\n",
        "# Preprocess the data (Standard Scaling)\n",
        "X_train_scaled = scaler.fit_transform(X_train)\n",
        "X_test_scaled = scaler.transform(X_test)\n",
        "\n",
        "# Initialize and train the Gradient Boosting model\n",
        "gb_model = GradientBoostingClassifier(random_state=42)\n",
        "gb_model.fit(X_train_scaled, y_train)\n",
        "\n",
        "# Make predictions on the test set\n",
        "gb_predictions = gb_model.predict(X_test_scaled)\n",
        "\n",
        "# Evaluate the Gradient Boosting model\n",
        "accuracy_gb = accuracy_score(y_test, gb_predictions)\n",
        "print(f'Gradient Boosting Accuracy on Test Set: {accuracy_gb:.4f}')\n"
      ],
      "metadata": {
        "colab": {
          "base_uri": "https://localhost:8080/"
        },
        "id": "uA9zIYbyJ3kO",
        "outputId": "92f53165-ecec-4fbd-95ad-415b9ad933cd"
      },
      "execution_count": 18,
      "outputs": [
        {
          "output_type": "stream",
          "name": "stdout",
          "text": [
            "Gradient Boosting Accuracy on Test Set: 0.9561\n"
          ]
        }
      ]
    }
  ]
}